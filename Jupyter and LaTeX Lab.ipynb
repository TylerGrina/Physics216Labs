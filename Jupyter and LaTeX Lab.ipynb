{
 "cells": [
  {
   "cell_type": "code",
   "execution_count": 17,
   "id": "d6eedf0d",
   "metadata": {
    "scrolled": true
   },
   "outputs": [
    {
     "name": "stdout",
     "output_type": "stream",
     "text": [
      "c =  205.2\n",
      "dQ_1= 6\n",
      "dQ_2= 32\n",
      "Q_3= 1.3\n",
      "dQ_3= 0.0007071067811865475\n",
      "dQ_4= 2.8284271247461903\n"
     ]
    }
   ],
   "source": [
    "import numpy as np\n",
    "\n",
    "def rule1(dA,c):\n",
    "    dQ_1=np.abs(c)*dA\n",
    "    return dQ_1\n",
    "\n",
    "dA=3\n",
    "c=2\n",
    "dQ_1=rule1(dA,c)\n",
    "\n",
    "print(\"dQ_1=\",dQ_1)\n",
    "\n",
    "def rule2(c,m,A,dA):\n",
    "    dQ_2 = np.abs(c*m*A**(m-1))*dA\n",
    "    return dQ_2\n",
    "\n",
    "c=1\n",
    "m=2\n",
    "A=4\n",
    "dA=4\n",
    "dQ_2=rule2(c,m,A,dA)\n",
    "\n",
    "print(\"dQ_2=\",dQ_2)\n",
    "\n",
    "\n",
    "\n",
    "def rule3(dA, dB):\n",
    "    dQ_3 = np.sqrt(dA**2+dB**2)\n",
    "    return dQ_3\n",
    "\n",
    "A=1.0\n",
    "B=0.3\n",
    "dA=0.0005\n",
    "dB=0.0005\n",
    "Q_3=A+B\n",
    "dQ_3=rule3(dA,dB)\n",
    "\n",
    "print(\"Q_3=\", Q_3)\n",
    "print(\"dQ_3=\", dQ_3)\n",
    "\n",
    "def rule4(A,B,C,D,m,n,o,p,dA,dB,dC,dD,Q):\n",
    "    dQ_4 = np.abs(Q)*np.sqrt((m*dA/A)**2+(n*dB/B)**2+(o*dC/C)**2+(p*dD/D)**2)\n",
    "    return dQ_4\n",
    "\n",
    "A=1\n",
    "dA=1\n",
    "m=2\n",
    "B=2\n",
    "dB=2\n",
    "n=2\n",
    "C=1\n",
    "dC=0\n",
    "o=0\n",
    "D=1\n",
    "dD=0\n",
    "p=0\n",
    "Q=1\n",
    "dQ_4=rule4(A,B,C,D,m,n,o,p,dA,dB,dC,dD,Q)\n",
    "#leave capital variables as 1 to avoid a divide by zero error#\n",
    "\n",
    "\n",
    "\n",
    "print(\"dQ_4=\", dQ_4)"
   ]
  },
  {
   "cell_type": "code",
   "execution_count": 5,
   "id": "1162c90d",
   "metadata": {
    "scrolled": false
   },
   "outputs": [
    {
     "name": "stdout",
     "output_type": "stream",
     "text": [
      "3.0\n",
      "1.4142135623730951\n"
     ]
    }
   ],
   "source": [
    "import numpy as np\n",
    "\n",
    "x=np.array([1,2,3,4,5])\n",
    "xmean=np.average(x)\n",
    "xstdev=np.std(x)\n",
    "print(xmean)\n",
    "print(xstdev)"
   ]
  },
  {
   "cell_type": "code",
   "execution_count": 4,
   "id": "083809b5",
   "metadata": {},
   "outputs": [
    {
     "name": "stdout",
     "output_type": "stream",
     "text": [
      "dVi= 0.008718861209964414\n"
     ]
    }
   ],
   "source": [
    "import numpy as np\n",
    "\n",
    "def rule4(A,B,C,D,m,n,o,p,dA,dB,dC,dD,Q):\n",
    "    dQ_4 = np.abs(Q)*np.sqrt((m*dA/A)**2+(n*dB/B)**2+(o*dC/C)**2+(p*dD/D)**2)\n",
    "    return dQ_4\n",
    "\n",
    "A=98.35\n",
    "dA=.5\n",
    "m=.5\n",
    "B=1\n",
    "dB=0\n",
    "n=0\n",
    "C=1\n",
    "dC=0\n",
    "o=0\n",
    "D=1\n",
    "dD=0\n",
    "p=0\n",
    "Q=3.43\n",
    "dQ_4=rule4(A,B,C,D,m,n,o,p,dA,dB,dC,dD,Q)\n",
    "#leave capital variables as 1 to avoid a divide by zero error#\n",
    "\n",
    "print(\"dVi=\", dQ_4)"
   ]
  },
  {
   "cell_type": "markdown",
   "id": "877e4bff",
   "metadata": {},
   "source": [
    "My uncertainty from the ballistic pendulum lab was 0.01 due to significant figures. I calculated the exact same value using excel for my report however as the value calculated via the python functions."
   ]
  },
  {
   "cell_type": "code",
   "execution_count": 5,
   "id": "35dec624",
   "metadata": {},
   "outputs": [
    {
     "name": "stdout",
     "output_type": "stream",
     "text": [
      "1.1166666666666667\n",
      "0.17950549357115014\n"
     ]
    }
   ],
   "source": [
    "import numpy as np\n",
    "\n",
    "x=np.array([1.1, 1.3, 1.4, 0.9, 0.95, 1.05])\n",
    "xmean=np.average(x)\n",
    "xstdev=np.std(x)\n",
    "print(xmean)\n",
    "print(xstdev)"
   ]
  },
  {
   "cell_type": "markdown",
   "id": "5d77b378",
   "metadata": {},
   "source": [
    "The numpy functions returned a mean value of 1.1 and a standard deviation of 0.2 when considering significant figures. When not considering significant figures the mean was about 1.1167 and the standard deviation was about 0.1795."
   ]
  },
  {
   "cell_type": "markdown",
   "id": "033da17b",
   "metadata": {},
   "source": [
    "If $Q = cA^mB^n$ where $c$, $m$, and $n$ are constants, then $\\frac{\\delta Q}{|{Q}|} = \\sqrt{(m\\frac{\\delta A}{A})^2 + (n\\frac{\\delta B}{B})^2} $. I accidentally did rule four instead of rule three.  "
   ]
  },
  {
   "cell_type": "markdown",
   "id": "6286ce7c",
   "metadata": {},
   "source": [
    "The equation for the uncertainty of $V_i$ from the ballistic pendulum lab is as follows: $ \\delta V_i = V_i\\sqrt{.5(\\frac{\\delta y}{y})^2} $."
   ]
  },
  {
   "cell_type": "code",
   "execution_count": null,
   "id": "a6f92447",
   "metadata": {},
   "outputs": [],
   "source": []
  }
 ],
 "metadata": {
  "kernelspec": {
   "display_name": "Python 3",
   "language": "python",
   "name": "python3"
  },
  "language_info": {
   "codemirror_mode": {
    "name": "ipython",
    "version": 3
   },
   "file_extension": ".py",
   "mimetype": "text/x-python",
   "name": "python",
   "nbconvert_exporter": "python",
   "pygments_lexer": "ipython3",
   "version": "3.8.8"
  }
 },
 "nbformat": 4,
 "nbformat_minor": 5
}
